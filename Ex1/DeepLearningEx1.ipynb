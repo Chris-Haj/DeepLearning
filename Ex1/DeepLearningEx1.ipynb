{
 "nbformat": 4,
 "nbformat_minor": 0,
 "metadata": {
  "colab": {
   "provenance": []
  },
  "kernelspec": {
   "name": "python3",
   "display_name": "Python 3"
  },
  "language_info": {
   "name": "python"
  }
 },
 "cells": [
  {
   "cell_type": "code",
   "execution_count": null,
   "metadata": {
    "id": "6x429PDnro6A",
    "pycharm": {
     "name": "#%%\n",
     "is_executing": true
    }
   },
   "outputs": [],
   "source": [
    "import numpy as np\n"
   ]
  },
  {
   "cell_type": "markdown",
   "source": [
    "Initialize our input data X and the corresponding labels Y. The XOR function returns a true value if the two inputs are not equal and a false value if they are equal.\n",
    "\n"
   ],
   "metadata": {
    "id": "fn1hqoI9ryDP",
    "pycharm": {
     "name": "#%% md\n"
    }
   }
  },
  {
   "cell_type": "code",
   "source": [
    "X = np.array([[0, 0, 1], [0, 1, 1], [1, 0,1], [1, 1, 1]])\n",
    "Y = np.array([[0], [1], [1], [0]])"
   ],
   "metadata": {
    "id": "DhIpU4Jds6PS",
    "pycharm": {
     "name": "#%%\n",
     "is_executing": true
    }
   },
   "execution_count": null,
   "outputs": []
  },
  {
   "cell_type": "code",
   "source": [
    "import matplotlib.pyplot as plt\n",
    "\n",
    "# Separate the inputs into two classes based on the labels\n",
    "class_0 = X[Y[:,0]==0]\n",
    "class_1 = X[Y[:,0]==1]\n",
    "\n",
    "# Plot the two classes\n",
    "plt.scatter(class_0[:,0], class_0[:,1], color='blue', label='Class 0')\n",
    "plt.scatter(class_1[:,0], class_1[:,1], color='red', label='Class 1')\n",
    "\n",
    "# Add labels and a legend\n",
    "plt.xlabel('X1')\n",
    "plt.ylabel('X2')\n",
    "plt.legend()\n",
    "\n",
    "# Show the plot\n",
    "plt.show()\n"
   ],
   "metadata": {
    "colab": {
     "base_uri": "https://localhost:8080/",
     "height": 449
    },
    "id": "FMDyr67bw4q0",
    "outputId": "010c3f26-70d3-4b4c-f975-7a93ab1e25d3",
    "pycharm": {
     "name": "#%%\n"
    }
   },
   "execution_count": 4,
   "outputs": [
    {
     "name": "stdout",
     "output_type": "stream",
     "text": [
      "[[0 0 1]\n",
      " [1 1 1]]\n",
      "[[0 1 1]\n",
      " [1 0 1]]\n"
     ]
    },
    {
     "data": {
      "text/plain": "<Figure size 640x480 with 1 Axes>",
      "image/png": "[encoded data removed]"
     },
     "metadata": {},
     "output_type": "display_data"
    }
   ]
  },
  {
   "cell_type": "markdown",
   "source": [
    "We will use the sigmoid function as our activation function. The sigmoid function maps any value to a value between 0 and 1.\n",
    "\n"
   ],
   "metadata": {
    "id": "VJmpAUKmrxmF",
    "pycharm": {
     "name": "#%% md\n"
    }
   }
  },
  {
   "cell_type": "code",
   "source": [
    "def sigmoid(x):\n",
    "    return 1 / (1 + np.exp(-x))  # activation function\n"
   ],
   "metadata": {
    "id": "kf0T_1HAtHVN",
    "pycharm": {
     "name": "#%%\n"
    }
   },
   "execution_count": 5,
   "outputs": []
  },
  {
   "cell_type": "markdown",
   "source": [
    "# Now it's your turn. Please implement the derivative of the sigmoid function:\n",
    "\n"
   ],
   "metadata": {
    "id": "kyRZWyfatnjl",
    "pycharm": {
     "name": "#%% md\n"
    }
   }
  },
  {
   "cell_type": "code",
   "source": [
    "def sigmoid_(x):\n",
    "    # TODO: Implement the derivative of the sigmoid function here\n",
    "    return"
   ],
   "metadata": {
    "id": "zR2kREI0toEJ",
    "pycharm": {
     "name": "#%%\n"
    }
   },
   "execution_count": 6,
   "outputs": []
  },
  {
   "cell_type": "markdown",
   "source": [
    "        Expected values:\n",
    "        sigmoid(0), 0.5\n",
    "        sigmoid(1), 0.73\n",
    "        sigmoid(-1), 0.26\n",
    "\n",
    "        sigmoid_(0), 0.25\n",
    "        sigmoid_(1), 0.19\n",
    "        sigmoid_(-1), 0.19"
   ],
   "metadata": {
    "id": "iihcdDMqwO1g",
    "pycharm": {
     "name": "#%% md\n"
    }
   }
  },
  {
   "cell_type": "code",
   "source": [],
   "metadata": {
    "id": "On0vdZtTwOWs",
    "pycharm": {
     "name": "#%%\n"
    }
   },
   "execution_count": 6,
   "outputs": []
  },
  {
   "cell_type": "markdown",
   "source": [
    "# We will initialize the weights for the inputs of the hidden layer (Wh) and the output layer (Wz).\n",
    " We will use the np.random.uniform function to initialize the weights to small random numbers.\n",
    "\n"
   ],
   "metadata": {
    "id": "gikOXwn7tjXo",
    "pycharm": {
     "name": "#%% md\n"
    }
   }
  },
  {
   "cell_type": "code",
   "source": [
    "# TODO: Define the size of the input layer, hidden layer, and output layer\n",
    "inputLayerSize =\n",
    "hiddenLayerSize =\n",
    "outputLayerSize =\n",
    "\n",
    "Wh = np.random.uniform(size=(inputLayerSize, hiddenLayerSize))\n",
    "Wz = np.random.uniform(size=(hiddenLayerSize, outputLayerSize))\n"
   ],
   "metadata": {
    "id": "4ADLrKtPtifv",
    "pycharm": {
     "name": "#%%\n"
    }
   },
   "execution_count": 7,
   "outputs": [
    {
     "ename": "SyntaxError",
     "evalue": "invalid syntax (725643827.py, line 2)",
     "output_type": "error",
     "traceback": [
      "\u001B[1;36m  Cell \u001B[1;32mIn[7], line 2\u001B[1;36m\u001B[0m\n\u001B[1;33m    inputLayerSize =\u001B[0m\n\u001B[1;37m                    ^\u001B[0m\n\u001B[1;31mSyntaxError\u001B[0m\u001B[1;31m:\u001B[0m invalid syntax\n"
     ]
    }
   ]
  },
  {
   "cell_type": "markdown",
   "source": [
    "# Training the Neural Network"
   ],
   "metadata": {
    "id": "iY0ttPbmt_PQ",
    "pycharm": {
     "name": "#%% md\n"
    }
   }
  },
  {
   "cell_type": "code",
   "source": [
    "# TODO: Define the number of epochs\n",
    "epochs =\n",
    "\n",
    "for i in range(epochs):\n",
    "    # TODO: Implement the forward propagation step\n",
    "    L1 =\n",
    "    H =\n",
    "    L2 =\n",
    "    Z =\n",
    "\n",
    "    # TODO: Implement the backpropagation step\n",
    "    E =\n",
    "    dZ =\n",
    "    dH =\n",
    "\n",
    "    # TODO: Update the weights\n",
    "    Wz +=\n",
    "    Wh +=\n"
   ],
   "metadata": {
    "id": "I3jgJrQ2t-Nl",
    "pycharm": {
     "name": "#%%\n"
    }
   },
   "execution_count": null,
   "outputs": []
  }
 ]
}